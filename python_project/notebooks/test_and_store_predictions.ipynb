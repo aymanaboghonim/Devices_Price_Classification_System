{
 "cells": [
  {
   "cell_type": "code",
   "execution_count": 3,
   "id": "81793fd6-015e-4b01-8542-5ee29be650d2",
   "metadata": {
    "tags": []
   },
   "outputs": [
    {
     "name": "stdout",
     "output_type": "stream",
     "text": [
      "Predictions for 10 test devices:\n",
      "Device 1 (ID: 96.0): Predicted price range = 2\n",
      "Device 2 (ID: 136.0): Predicted price range = 1\n",
      "Device 3 (ID: 239.0): Predicted price range = 3\n",
      "Device 4 (ID: 330.0): Predicted price range = 0\n",
      "Device 5 (ID: 389.0): Predicted price range = 3\n",
      "Device 6 (ID: 496.0): Predicted price range = 0\n",
      "Device 7 (ID: 598.0): Predicted price range = 3\n",
      "Device 8 (ID: 328.0): Predicted price range = 3\n",
      "Device 9 (ID: 672.0): Predicted price range = 1\n",
      "Device 10 (ID: 690.0): Predicted price range = 2\n",
      "Predictions have been stored in the database.\n"
     ]
    }
   ],
   "source": [
    "#!/usr/bin/env python\n",
    "# coding: utf-8\n",
    "\n",
    "# Import necessary libraries\n",
    "import pandas as pd\n",
    "import numpy as np\n",
    "import joblib\n",
    "import sqlite3\n",
    "\n",
    "# Load the test data\n",
    "test_data = pd.read_csv(\"../data/test.csv\")\n",
    "\n",
    "# Select 10 devices for prediction\n",
    "test_samples = test_data.sample(10)\n",
    "test_samples.to_csv(\"../data/test_samples.csv\", index=False)  # Save selected samples\n",
    "\n",
    "# Load the best logistic regression model\n",
    "best_logistic_model = joblib.load('../models/best_logistic_regression_model.pkl')\n",
    "\n",
    "# Load the scaler used during training\n",
    "scaler = joblib.load('../models/scaler.pkl')\n",
    "\n",
    "# Prepare the data as per the model requirements\n",
    "# Ensure the columns are passed with the correct feature names\n",
    "test_samples_prepared = pd.DataFrame(scaler.transform(test_samples.drop(columns=['id'])), columns=test_samples.drop(columns=['id']).columns)\n",
    "\n",
    "# Predict the price range for the selected devices\n",
    "predictions = best_logistic_model.predict(test_samples_prepared)\n",
    "\n",
    "# Print the predictions\n",
    "print(\"Predictions for 10 test devices:\")\n",
    "for i, prediction in enumerate(predictions):\n",
    "    print(f\"Device {i+1} (ID: {test_samples.iloc[i]['id']}): Predicted price range = {prediction}\")\n",
    "\n",
    "# Connect to SQLite database (or create it if it doesn't exist)\n",
    "conn = sqlite3.connect('../data/devices_predictions.db')\n",
    "cursor = conn.cursor()\n",
    "\n",
    "# Create a table for storing predictions if it does not exist\n",
    "cursor.execute('''\n",
    "CREATE TABLE IF NOT EXISTS predictions (\n",
    "    id INTEGER PRIMARY KEY,\n",
    "    device_id INTEGER,\n",
    "    prediction INTEGER\n",
    ")\n",
    "''')\n",
    "\n",
    "# Insert predictions into the database\n",
    "for i, prediction in enumerate(predictions):\n",
    "    cursor.execute('''\n",
    "    INSERT INTO predictions (device_id, prediction)\n",
    "    VALUES (?, ?)\n",
    "    ''', (int(test_samples.iloc[i]['id']), int(prediction)))\n",
    "\n",
    "# Commit the transaction and close the connection\n",
    "conn.commit()\n",
    "conn.close()\n",
    "\n",
    "# Print confirmation message\n",
    "print(\"Predictions have been stored in the database.\")\n",
    "\n"
   ]
  },
  {
   "cell_type": "code",
   "execution_count": null,
   "id": "d7dd71a6-f8ea-40e0-b6f7-67aecd10ad1d",
   "metadata": {},
   "outputs": [],
   "source": []
  }
 ],
 "metadata": {
  "kernelspec": {
   "display_name": "Python 3 (ipykernel)",
   "language": "python",
   "name": "python3"
  },
  "language_info": {
   "codemirror_mode": {
    "name": "ipython",
    "version": 3
   },
   "file_extension": ".py",
   "mimetype": "text/x-python",
   "name": "python",
   "nbconvert_exporter": "python",
   "pygments_lexer": "ipython3",
   "version": "3.9.18"
  }
 },
 "nbformat": 4,
 "nbformat_minor": 5
}
