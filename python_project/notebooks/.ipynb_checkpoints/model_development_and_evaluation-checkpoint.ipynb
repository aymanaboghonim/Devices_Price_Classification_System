{
 "cells": [
  {
   "cell_type": "markdown",
   "id": "13887ed7",
   "metadata": {},
   "source": [
    "# Model Development for Device Price Classification\n",
    "\n",
    "In this section, we'll develop and evaluate multiple machine learning models to accurately predict the price range of devices based on their specifications. We aim to compare different models to find the most effective one for our prediction task.\n"
   ]
  },
  {
   "cell_type": "markdown",
   "id": "3061db7d",
   "metadata": {},
   "source": [
    "## Import Necessary Libraries\n",
    "\n",
    "Before we start, let's import all the necessary libraries that we will need to process the data, train models, and evaluate their performance.\n"
   ]
  },
  {
   "cell_type": "code",
   "execution_count": 2,
   "id": "634b2450",
   "metadata": {},
   "outputs": [],
   "source": [
    "import pandas as pd\n",
    "from sklearn.model_selection import train_test_split, GridSearchCV\n",
    "from sklearn.preprocessing import StandardScaler\n",
    "from sklearn.metrics import classification_report, confusion_matrix, roc_auc_score\n",
    "from sklearn.linear_model import LogisticRegression\n",
    "from sklearn.ensemble import RandomForestClassifier, GradientBoostingClassifier\n",
    "from sklearn.svm import SVC\n",
    "from sklearn.tree import DecisionTreeClassifier\n",
    "import joblib\n"
   ]
  },
  {
   "cell_type": "markdown",
   "id": "e230758f",
   "metadata": {},
   "source": [
    "## Load and Prepare Data\n",
    "\n",
    "We'll begin by loading our dataset and preparing it by splitting into training and testing sets. This step includes scaling the features to standardize the data.\n"
   ]
  },
  {
   "cell_type": "code",
   "execution_count": 3,
   "id": "e41ad2d7",
   "metadata": {},
   "outputs": [],
   "source": [
    "def load_data(filepath):\n",
    "    data = pd.read_csv(filepath)\n",
    "    return data\n",
    "\n",
    "def prepare_data(data):\n",
    "    X = data.drop('price_range', axis=1)\n",
    "    y = data['price_range']\n",
    "    scaler = StandardScaler()\n",
    "    X_scaled = scaler.fit_transform(X)\n",
    "    return train_test_split(X_scaled, y, test_size=0.2, random_state=42)\n"
   ]
  },
  {
   "cell_type": "code",
   "execution_count": null,
   "id": "64fdbd06",
   "metadata": {},
   "outputs": [],
   "source": []
  }
 ],
 "metadata": {
  "kernelspec": {
   "display_name": "Python 3 (ipykernel)",
   "language": "python",
   "name": "python3"
  },
  "language_info": {
   "codemirror_mode": {
    "name": "ipython",
    "version": 3
   },
   "file_extension": ".py",
   "mimetype": "text/x-python",
   "name": "python",
   "nbconvert_exporter": "python",
   "pygments_lexer": "ipython3",
   "version": "3.9.18"
  }
 },
 "nbformat": 4,
 "nbformat_minor": 5
}
